{
  "cells": [
    {
      "cell_type": "code",
      "execution_count": null,
      "id": "e81e6a10",
      "metadata": {
        "id": "e81e6a10"
      },
      "outputs": [],
      "source": [
        "import pandas as pd\n",
        "import numpy as np\n",
        "import seaborn as sns\n",
        "import matplotlib.pyplot as plt\n",
        "from sklearn.linear_model import LinearRegression\n",
        "from sklearn.tree import DecisionTreeRegressor\n",
        "from sklearn.neighbors import KNeighborsRegressor\n",
        "from sklearn.metrics import mean_squared_error, r2_score\n",
        "from sklearn.neural_network import MLPRegressor\n",
        "from sklearn.model_selection import GridSearchCV\n",
        "plt.rcParams.update({'figure.figsize':(6,4),'figure.dpi':60})"
      ]
    },
    {
      "cell_type": "code",
      "execution_count": null,
      "id": "a5d6a988",
      "metadata": {
        "id": "a5d6a988"
      },
      "outputs": [],
      "source": [
        "pth = r\"C:/Users/Abisola/Desktop/rosmodeldata.xlsx\""
      ]
    },
    {
      "cell_type": "code",
      "execution_count": null,
      "id": "62924ade",
      "metadata": {
        "id": "62924ade"
      },
      "outputs": [],
      "source": [
        "data = pd.read_excel(pth, sheet_name='Sheet1')"
      ]
    },
    {
      "cell_type": "code",
      "execution_count": null,
      "id": "055582af",
      "metadata": {
        "id": "055582af",
        "outputId": "8f7d7642-a64b-49f4-b299-9201a8bcece9"
      },
      "outputs": [
        {
          "data": {
            "text/html": [
              "<div>\n",
              "<style scoped>\n",
              "    .dataframe tbody tr th:only-of-type {\n",
              "        vertical-align: middle;\n",
              "    }\n",
              "\n",
              "    .dataframe tbody tr th {\n",
              "        vertical-align: top;\n",
              "    }\n",
              "\n",
              "    .dataframe thead th {\n",
              "        text-align: right;\n",
              "    }\n",
              "</style>\n",
              "<table border=\"1\" class=\"dataframe\">\n",
              "  <thead>\n",
              "    <tr style=\"text-align: right;\">\n",
              "      <th></th>\n",
              "      <th>storage_week</th>\n",
              "      <th>Samples</th>\n",
              "      <th>MoistureContent</th>\n",
              "      <th>Protein_content</th>\n",
              "      <th>Lipid_content</th>\n",
              "      <th>Crude_fiber</th>\n",
              "      <th>Ash_content</th>\n",
              "      <th>Starch_content</th>\n",
              "      <th>Sugar_content</th>\n",
              "      <th>Hydrocyanic_acid</th>\n",
              "      <th>Total_titrable_acidity</th>\n",
              "      <th>PH</th>\n",
              "      <th>Swelling_capacity</th>\n",
              "      <th>Temperature</th>\n",
              "      <th>Humidity</th>\n",
              "    </tr>\n",
              "  </thead>\n",
              "  <tbody>\n",
              "    <tr>\n",
              "      <th>0</th>\n",
              "      <td>9</td>\n",
              "      <td>Envelop</td>\n",
              "      <td>12.53</td>\n",
              "      <td>3.74</td>\n",
              "      <td>3.50</td>\n",
              "      <td>6.29</td>\n",
              "      <td>1.27</td>\n",
              "      <td>74.67</td>\n",
              "      <td>4.60</td>\n",
              "      <td>0.84</td>\n",
              "      <td>0.190</td>\n",
              "      <td>4.3</td>\n",
              "      <td>3.3</td>\n",
              "      <td>34.2</td>\n",
              "      <td>91</td>\n",
              "    </tr>\n",
              "    <tr>\n",
              "      <th>1</th>\n",
              "      <td>9</td>\n",
              "      <td>Jute</td>\n",
              "      <td>12.08</td>\n",
              "      <td>3.78</td>\n",
              "      <td>3.46</td>\n",
              "      <td>2.78</td>\n",
              "      <td>1.15</td>\n",
              "      <td>76.75</td>\n",
              "      <td>4.80</td>\n",
              "      <td>0.83</td>\n",
              "      <td>0.230</td>\n",
              "      <td>4.3</td>\n",
              "      <td>3.4</td>\n",
              "      <td>32.4</td>\n",
              "      <td>89</td>\n",
              "    </tr>\n",
              "    <tr>\n",
              "      <th>2</th>\n",
              "      <td>9</td>\n",
              "      <td>Sack</td>\n",
              "      <td>9.34</td>\n",
              "      <td>3.75</td>\n",
              "      <td>2.66</td>\n",
              "      <td>3.96</td>\n",
              "      <td>1.36</td>\n",
              "      <td>78.93</td>\n",
              "      <td>4.90</td>\n",
              "      <td>0.60</td>\n",
              "      <td>0.230</td>\n",
              "      <td>4.2</td>\n",
              "      <td>3.6</td>\n",
              "      <td>32.8</td>\n",
              "      <td>90</td>\n",
              "    </tr>\n",
              "    <tr>\n",
              "      <th>3</th>\n",
              "      <td>9</td>\n",
              "      <td>Zip lock nylon</td>\n",
              "      <td>6.56</td>\n",
              "      <td>3.82</td>\n",
              "      <td>4.27</td>\n",
              "      <td>5.39</td>\n",
              "      <td>1.28</td>\n",
              "      <td>78.68</td>\n",
              "      <td>4.90</td>\n",
              "      <td>0.56</td>\n",
              "      <td>0.270</td>\n",
              "      <td>4.3</td>\n",
              "      <td>3.7</td>\n",
              "      <td>31.8</td>\n",
              "      <td>90</td>\n",
              "    </tr>\n",
              "    <tr>\n",
              "      <th>4</th>\n",
              "      <td>9</td>\n",
              "      <td>Plastic container</td>\n",
              "      <td>6.94</td>\n",
              "      <td>3.80</td>\n",
              "      <td>4.75</td>\n",
              "      <td>2.41</td>\n",
              "      <td>1.01</td>\n",
              "      <td>81.09</td>\n",
              "      <td>4.85</td>\n",
              "      <td>0.66</td>\n",
              "      <td>0.230</td>\n",
              "      <td>4.3</td>\n",
              "      <td>3.6</td>\n",
              "      <td>33.8</td>\n",
              "      <td>89</td>\n",
              "    </tr>\n",
              "    <tr>\n",
              "      <th>5</th>\n",
              "      <td>12</td>\n",
              "      <td>Envelop</td>\n",
              "      <td>7.53</td>\n",
              "      <td>3.48</td>\n",
              "      <td>1.89</td>\n",
              "      <td>3.08</td>\n",
              "      <td>1.31</td>\n",
              "      <td>82.71</td>\n",
              "      <td>4.58</td>\n",
              "      <td>0.84</td>\n",
              "      <td>0.198</td>\n",
              "      <td>4.1</td>\n",
              "      <td>3.7</td>\n",
              "      <td>33.8</td>\n",
              "      <td>89</td>\n",
              "    </tr>\n",
              "    <tr>\n",
              "      <th>6</th>\n",
              "      <td>12</td>\n",
              "      <td>Jute</td>\n",
              "      <td>10.03</td>\n",
              "      <td>3.71</td>\n",
              "      <td>5.37</td>\n",
              "      <td>3.82</td>\n",
              "      <td>1.40</td>\n",
              "      <td>75.67</td>\n",
              "      <td>4.85</td>\n",
              "      <td>0.82</td>\n",
              "      <td>0.270</td>\n",
              "      <td>4.3</td>\n",
              "      <td>3.7</td>\n",
              "      <td>31.8</td>\n",
              "      <td>89</td>\n",
              "    </tr>\n",
              "    <tr>\n",
              "      <th>7</th>\n",
              "      <td>12</td>\n",
              "      <td>Sack</td>\n",
              "      <td>9.10</td>\n",
              "      <td>3.68</td>\n",
              "      <td>3.06</td>\n",
              "      <td>3.84</td>\n",
              "      <td>1.56</td>\n",
              "      <td>78.76</td>\n",
              "      <td>4.96</td>\n",
              "      <td>0.58</td>\n",
              "      <td>0.261</td>\n",
              "      <td>4.1</td>\n",
              "      <td>3.7</td>\n",
              "      <td>32.0</td>\n",
              "      <td>90</td>\n",
              "    </tr>\n",
              "    <tr>\n",
              "      <th>8</th>\n",
              "      <td>12</td>\n",
              "      <td>Zip lock nylon</td>\n",
              "      <td>6.95</td>\n",
              "      <td>3.78</td>\n",
              "      <td>5.63</td>\n",
              "      <td>2.98</td>\n",
              "      <td>1.38</td>\n",
              "      <td>79.28</td>\n",
              "      <td>4.88</td>\n",
              "      <td>0.56</td>\n",
              "      <td>0.270</td>\n",
              "      <td>4.2</td>\n",
              "      <td>3.7</td>\n",
              "      <td>32.8</td>\n",
              "      <td>89</td>\n",
              "    </tr>\n",
              "    <tr>\n",
              "      <th>9</th>\n",
              "      <td>12</td>\n",
              "      <td>Plastic container</td>\n",
              "      <td>9.88</td>\n",
              "      <td>3.72</td>\n",
              "      <td>2.41</td>\n",
              "      <td>2.82</td>\n",
              "      <td>1.31</td>\n",
              "      <td>79.86</td>\n",
              "      <td>5.05</td>\n",
              "      <td>0.64</td>\n",
              "      <td>0.270</td>\n",
              "      <td>4.2</td>\n",
              "      <td>3.7</td>\n",
              "      <td>33.9</td>\n",
              "      <td>91</td>\n",
              "    </tr>\n",
              "  </tbody>\n",
              "</table>\n",
              "</div>"
            ],
            "text/plain": [
              "   storage_week            Samples  MoistureContent   Protein_content  \\\n",
              "0             9            Envelop             12.53             3.74   \n",
              "1             9               Jute             12.08             3.78   \n",
              "2             9               Sack              9.34             3.75   \n",
              "3             9     Zip lock nylon              6.56             3.82   \n",
              "4             9  Plastic container              6.94             3.80   \n",
              "5            12            Envelop              7.53             3.48   \n",
              "6            12               Jute             10.03             3.71   \n",
              "7            12               Sack              9.10             3.68   \n",
              "8            12     Zip lock nylon              6.95             3.78   \n",
              "9            12  Plastic container              9.88             3.72   \n",
              "\n",
              "   Lipid_content  Crude_fiber  Ash_content  Starch_content  Sugar_content  \\\n",
              "0           3.50         6.29         1.27           74.67           4.60   \n",
              "1           3.46         2.78         1.15           76.75           4.80   \n",
              "2           2.66         3.96         1.36           78.93           4.90   \n",
              "3           4.27         5.39         1.28           78.68           4.90   \n",
              "4           4.75         2.41         1.01           81.09           4.85   \n",
              "5           1.89         3.08         1.31           82.71           4.58   \n",
              "6           5.37         3.82         1.40           75.67           4.85   \n",
              "7           3.06         3.84         1.56           78.76           4.96   \n",
              "8           5.63         2.98         1.38           79.28           4.88   \n",
              "9           2.41         2.82         1.31           79.86           5.05   \n",
              "\n",
              "   Hydrocyanic_acid  Total_titrable_acidity   PH  Swelling_capacity  \\\n",
              "0              0.84                   0.190  4.3                3.3   \n",
              "1              0.83                   0.230  4.3                3.4   \n",
              "2              0.60                   0.230  4.2                3.6   \n",
              "3              0.56                   0.270  4.3                3.7   \n",
              "4              0.66                   0.230  4.3                3.6   \n",
              "5              0.84                   0.198  4.1                3.7   \n",
              "6              0.82                   0.270  4.3                3.7   \n",
              "7              0.58                   0.261  4.1                3.7   \n",
              "8              0.56                   0.270  4.2                3.7   \n",
              "9              0.64                   0.270  4.2                3.7   \n",
              "\n",
              "   Temperature  Humidity  \n",
              "0         34.2        91  \n",
              "1         32.4        89  \n",
              "2         32.8        90  \n",
              "3         31.8        90  \n",
              "4         33.8        89  \n",
              "5         33.8        89  \n",
              "6         31.8        89  \n",
              "7         32.0        90  \n",
              "8         32.8        89  \n",
              "9         33.9        91  "
            ]
          },
          "execution_count": 201,
          "metadata": {},
          "output_type": "execute_result"
        }
      ],
      "source": [
        "data.head(10)"
      ]
    },
    {
      "cell_type": "code",
      "execution_count": null,
      "id": "a8081b1d",
      "metadata": {
        "id": "a8081b1d",
        "outputId": "e5091cad-ab71-4166-9c4c-7303bed8bb64"
      },
      "outputs": [
        {
          "name": "stdout",
          "output_type": "stream",
          "text": [
            "<class 'pandas.core.frame.DataFrame'>\n",
            "RangeIndex: 15 entries, 0 to 14\n",
            "Data columns (total 15 columns):\n",
            " #   Column                  Non-Null Count  Dtype  \n",
            "---  ------                  --------------  -----  \n",
            " 0   storage_week            15 non-null     int64  \n",
            " 1   Samples                 15 non-null     object \n",
            " 2   MoistureContent         15 non-null     float64\n",
            " 3   Protein_content         15 non-null     float64\n",
            " 4   Lipid_content           15 non-null     float64\n",
            " 5   Crude_fiber             15 non-null     float64\n",
            " 6   Ash_content             15 non-null     float64\n",
            " 7   Starch_content          15 non-null     float64\n",
            " 8   Sugar_content           15 non-null     float64\n",
            " 9   Hydrocyanic_acid        15 non-null     float64\n",
            " 10  Total_titrable_acidity  15 non-null     float64\n",
            " 11  PH                      15 non-null     float64\n",
            " 12  Swelling_capacity       15 non-null     float64\n",
            " 13  Temperature             15 non-null     float64\n",
            " 14  Humidity                15 non-null     int64  \n",
            "dtypes: float64(12), int64(2), object(1)\n",
            "memory usage: 1.9+ KB\n"
          ]
        }
      ],
      "source": [
        "data.info()"
      ]
    },
    {
      "cell_type": "code",
      "execution_count": null,
      "id": "685b6152",
      "metadata": {
        "id": "685b6152",
        "outputId": "501296a0-3170-4067-c8cd-4b3e9545296e"
      },
      "outputs": [
        {
          "data": {
            "text/html": [
              "<div>\n",
              "<style scoped>\n",
              "    .dataframe tbody tr th:only-of-type {\n",
              "        vertical-align: middle;\n",
              "    }\n",
              "\n",
              "    .dataframe tbody tr th {\n",
              "        vertical-align: top;\n",
              "    }\n",
              "\n",
              "    .dataframe thead th {\n",
              "        text-align: right;\n",
              "    }\n",
              "</style>\n",
              "<table border=\"1\" class=\"dataframe\">\n",
              "  <thead>\n",
              "    <tr style=\"text-align: right;\">\n",
              "      <th></th>\n",
              "      <th>storage_week</th>\n",
              "      <th>MoistureContent</th>\n",
              "      <th>Protein_content</th>\n",
              "      <th>Lipid_content</th>\n",
              "      <th>Crude_fiber</th>\n",
              "      <th>Ash_content</th>\n",
              "      <th>Starch_content</th>\n",
              "      <th>Sugar_content</th>\n",
              "      <th>Hydrocyanic_acid</th>\n",
              "      <th>Total_titrable_acidity</th>\n",
              "      <th>PH</th>\n",
              "      <th>Swelling_capacity</th>\n",
              "      <th>Temperature</th>\n",
              "      <th>Humidity</th>\n",
              "    </tr>\n",
              "  </thead>\n",
              "  <tbody>\n",
              "    <tr>\n",
              "      <th>count</th>\n",
              "      <td>15.000000</td>\n",
              "      <td>15.000000</td>\n",
              "      <td>15.000000</td>\n",
              "      <td>15.000000</td>\n",
              "      <td>15.000000</td>\n",
              "      <td>15.000000</td>\n",
              "      <td>15.000000</td>\n",
              "      <td>15.000000</td>\n",
              "      <td>15.000000</td>\n",
              "      <td>15.000000</td>\n",
              "      <td>15.000000</td>\n",
              "      <td>15.000000</td>\n",
              "      <td>15.000000</td>\n",
              "      <td>15.000000</td>\n",
              "    </tr>\n",
              "    <tr>\n",
              "      <th>mean</th>\n",
              "      <td>8.000000</td>\n",
              "      <td>9.495333</td>\n",
              "      <td>3.768667</td>\n",
              "      <td>3.649333</td>\n",
              "      <td>4.090667</td>\n",
              "      <td>1.216000</td>\n",
              "      <td>78.019333</td>\n",
              "      <td>4.772667</td>\n",
              "      <td>0.696000</td>\n",
              "      <td>0.235933</td>\n",
              "      <td>4.253333</td>\n",
              "      <td>3.613333</td>\n",
              "      <td>32.533333</td>\n",
              "      <td>89.666667</td>\n",
              "    </tr>\n",
              "    <tr>\n",
              "      <th>std</th>\n",
              "      <td>3.872983</td>\n",
              "      <td>3.462963</td>\n",
              "      <td>0.101620</td>\n",
              "      <td>1.270576</td>\n",
              "      <td>1.976485</td>\n",
              "      <td>0.211417</td>\n",
              "      <td>3.834659</td>\n",
              "      <td>0.282955</td>\n",
              "      <td>0.120463</td>\n",
              "      <td>0.030422</td>\n",
              "      <td>0.091548</td>\n",
              "      <td>0.124595</td>\n",
              "      <td>1.079462</td>\n",
              "      <td>0.723747</td>\n",
              "    </tr>\n",
              "    <tr>\n",
              "      <th>min</th>\n",
              "      <td>3.000000</td>\n",
              "      <td>4.120000</td>\n",
              "      <td>3.480000</td>\n",
              "      <td>1.890000</td>\n",
              "      <td>1.750000</td>\n",
              "      <td>0.720000</td>\n",
              "      <td>66.630000</td>\n",
              "      <td>3.870000</td>\n",
              "      <td>0.560000</td>\n",
              "      <td>0.180000</td>\n",
              "      <td>4.100000</td>\n",
              "      <td>3.300000</td>\n",
              "      <td>31.100000</td>\n",
              "      <td>89.000000</td>\n",
              "    </tr>\n",
              "    <tr>\n",
              "      <th>25%</th>\n",
              "      <td>3.000000</td>\n",
              "      <td>6.945000</td>\n",
              "      <td>3.730000</td>\n",
              "      <td>2.595000</td>\n",
              "      <td>2.800000</td>\n",
              "      <td>1.165000</td>\n",
              "      <td>77.300000</td>\n",
              "      <td>4.740000</td>\n",
              "      <td>0.590000</td>\n",
              "      <td>0.225000</td>\n",
              "      <td>4.200000</td>\n",
              "      <td>3.600000</td>\n",
              "      <td>31.800000</td>\n",
              "      <td>89.000000</td>\n",
              "    </tr>\n",
              "    <tr>\n",
              "      <th>50%</th>\n",
              "      <td>9.000000</td>\n",
              "      <td>9.340000</td>\n",
              "      <td>3.780000</td>\n",
              "      <td>3.460000</td>\n",
              "      <td>3.820000</td>\n",
              "      <td>1.270000</td>\n",
              "      <td>78.760000</td>\n",
              "      <td>4.850000</td>\n",
              "      <td>0.660000</td>\n",
              "      <td>0.230000</td>\n",
              "      <td>4.300000</td>\n",
              "      <td>3.700000</td>\n",
              "      <td>32.400000</td>\n",
              "      <td>90.000000</td>\n",
              "    </tr>\n",
              "    <tr>\n",
              "      <th>75%</th>\n",
              "      <td>12.000000</td>\n",
              "      <td>11.055000</td>\n",
              "      <td>3.835000</td>\n",
              "      <td>4.635000</td>\n",
              "      <td>4.735000</td>\n",
              "      <td>1.335000</td>\n",
              "      <td>79.570000</td>\n",
              "      <td>4.900000</td>\n",
              "      <td>0.830000</td>\n",
              "      <td>0.265500</td>\n",
              "      <td>4.300000</td>\n",
              "      <td>3.700000</td>\n",
              "      <td>33.550000</td>\n",
              "      <td>90.000000</td>\n",
              "    </tr>\n",
              "    <tr>\n",
              "      <th>max</th>\n",
              "      <td>12.000000</td>\n",
              "      <td>17.530000</td>\n",
              "      <td>3.910000</td>\n",
              "      <td>5.630000</td>\n",
              "      <td>8.530000</td>\n",
              "      <td>1.560000</td>\n",
              "      <td>82.710000</td>\n",
              "      <td>5.050000</td>\n",
              "      <td>0.840000</td>\n",
              "      <td>0.270000</td>\n",
              "      <td>4.400000</td>\n",
              "      <td>3.700000</td>\n",
              "      <td>34.200000</td>\n",
              "      <td>91.000000</td>\n",
              "    </tr>\n",
              "  </tbody>\n",
              "</table>\n",
              "</div>"
            ],
            "text/plain": [
              "       storage_week  MoistureContent   Protein_content  Lipid_content  \\\n",
              "count     15.000000         15.000000        15.000000      15.000000   \n",
              "mean       8.000000          9.495333         3.768667       3.649333   \n",
              "std        3.872983          3.462963         0.101620       1.270576   \n",
              "min        3.000000          4.120000         3.480000       1.890000   \n",
              "25%        3.000000          6.945000         3.730000       2.595000   \n",
              "50%        9.000000          9.340000         3.780000       3.460000   \n",
              "75%       12.000000         11.055000         3.835000       4.635000   \n",
              "max       12.000000         17.530000         3.910000       5.630000   \n",
              "\n",
              "       Crude_fiber  Ash_content  Starch_content  Sugar_content  \\\n",
              "count    15.000000    15.000000       15.000000      15.000000   \n",
              "mean      4.090667     1.216000       78.019333       4.772667   \n",
              "std       1.976485     0.211417        3.834659       0.282955   \n",
              "min       1.750000     0.720000       66.630000       3.870000   \n",
              "25%       2.800000     1.165000       77.300000       4.740000   \n",
              "50%       3.820000     1.270000       78.760000       4.850000   \n",
              "75%       4.735000     1.335000       79.570000       4.900000   \n",
              "max       8.530000     1.560000       82.710000       5.050000   \n",
              "\n",
              "       Hydrocyanic_acid  Total_titrable_acidity         PH  Swelling_capacity  \\\n",
              "count         15.000000               15.000000  15.000000          15.000000   \n",
              "mean           0.696000                0.235933   4.253333           3.613333   \n",
              "std            0.120463                0.030422   0.091548           0.124595   \n",
              "min            0.560000                0.180000   4.100000           3.300000   \n",
              "25%            0.590000                0.225000   4.200000           3.600000   \n",
              "50%            0.660000                0.230000   4.300000           3.700000   \n",
              "75%            0.830000                0.265500   4.300000           3.700000   \n",
              "max            0.840000                0.270000   4.400000           3.700000   \n",
              "\n",
              "       Temperature   Humidity  \n",
              "count    15.000000  15.000000  \n",
              "mean     32.533333  89.666667  \n",
              "std       1.079462   0.723747  \n",
              "min      31.100000  89.000000  \n",
              "25%      31.800000  89.000000  \n",
              "50%      32.400000  90.000000  \n",
              "75%      33.550000  90.000000  \n",
              "max      34.200000  91.000000  "
            ]
          },
          "execution_count": 203,
          "metadata": {},
          "output_type": "execute_result"
        }
      ],
      "source": [
        "data.describe()"
      ]
    },
    {
      "cell_type": "code",
      "execution_count": null,
      "id": "60052a1f",
      "metadata": {
        "id": "60052a1f",
        "outputId": "c42a9119-2ab5-4bb7-d246-f0274d874652"
      },
      "outputs": [
        {
          "name": "stdout",
          "output_type": "stream",
          "text": [
            "['MoistureContent ']\n"
          ]
        }
      ],
      "source": [
        "columns_with_spaces = [col for col in data.columns if col != col.strip()]\n",
        "print(columns_with_spaces)"
      ]
    },
    {
      "cell_type": "code",
      "execution_count": null,
      "id": "d8505fcb",
      "metadata": {
        "id": "d8505fcb"
      },
      "outputs": [],
      "source": [
        "# Remove leading/trailing spaces from all column names\n",
        "data.columns = data.columns.str.strip()\n"
      ]
    },
    {
      "cell_type": "code",
      "execution_count": null,
      "id": "30348c79",
      "metadata": {
        "id": "30348c79",
        "outputId": "f4648824-cda5-4061-f96b-9e67c981d9db"
      },
      "outputs": [
        {
          "name": "stdout",
          "output_type": "stream",
          "text": [
            "Index(['storage_week', 'Samples', 'MoistureContent', 'Protein_content',\n",
            "       'Lipid_content', 'Crude_fiber', 'Ash_content', 'Starch_content',\n",
            "       'Sugar_content', 'Hydrocyanic_acid', 'Total_titrable_acidity', 'PH',\n",
            "       'Swelling_capacity', 'Temperature', 'Humidity'],\n",
            "      dtype='object')\n"
          ]
        }
      ],
      "source": [
        "print(data.columns)"
      ]
    },
    {
      "cell_type": "code",
      "execution_count": null,
      "id": "05e2e4e5",
      "metadata": {
        "id": "05e2e4e5"
      },
      "outputs": [],
      "source": []
    },
    {
      "cell_type": "code",
      "execution_count": null,
      "id": "0db69b1f",
      "metadata": {
        "id": "0db69b1f"
      },
      "outputs": [],
      "source": []
    },
    {
      "cell_type": "code",
      "execution_count": null,
      "id": "76261ae3",
      "metadata": {
        "id": "76261ae3"
      },
      "outputs": [],
      "source": [
        "def boxplot(column):\n",
        "    sns.boxplot(data=data,x=data[f\"{column}\"])\n",
        "    plt.title(f\"Boxplot of {column}\")\n",
        "    plt.show()"
      ]
    },
    {
      "cell_type": "code",
      "execution_count": null,
      "id": "0ec90637",
      "metadata": {
        "id": "0ec90637",
        "outputId": "d8faa19e-e292-4640-f20f-2cde3fc96e36"
      },
      "outputs": [
        {
          "data": {
            "image/png": "[encoded data removed]",
            "text/plain": [
              "<Figure size 360x240 with 1 Axes>"
            ]
          },
          "metadata": {
            "needs_background": "light"
          },
          "output_type": "display_data"
        }
      ],
      "source": [
        "boxplot('PH')"
      ]
    },
    {
      "cell_type": "code",
      "execution_count": null,
      "id": "83b9ef2f",
      "metadata": {
        "id": "83b9ef2f",
        "outputId": "e948a0b1-3b3c-4e59-d4c0-27b3ef00004b"
      },
      "outputs": [
        {
          "data": {
            "image/png": "[encoded data removed]",
            "text/plain": [
              "<Figure size 360x240 with 1 Axes>"
            ]
          },
          "metadata": {
            "needs_background": "light"
          },
          "output_type": "display_data"
        }
      ],
      "source": [
        "boxplot('MoistureContent')"
      ]
    },
    {
      "cell_type": "code",
      "execution_count": null,
      "id": "2346137d",
      "metadata": {
        "id": "2346137d",
        "outputId": "24bf6754-a92b-45f7-a6a2-b71f3e929a72"
      },
      "outputs": [
        {
          "name": "stdout",
          "output_type": "stream",
          "text": [
            "Index(['storage_week', 'Samples', 'MoistureContent', 'Protein_content',\n",
            "       'Lipid_content', 'Crude_fiber', 'Ash_content', 'Starch_content',\n",
            "       'Sugar_content', 'Hydrocyanic_acid', 'Total_titrable_acidity', 'PH',\n",
            "       'Swelling_capacity', 'Temperature', 'Humidity'],\n",
            "      dtype='object')\n"
          ]
        }
      ],
      "source": [
        "print(data.columns)"
      ]
    },
    {
      "cell_type": "code",
      "execution_count": null,
      "id": "329087a3",
      "metadata": {
        "id": "329087a3",
        "outputId": "c1dab285-8c67-4640-81b4-b7695674978b"
      },
      "outputs": [
        {
          "data": {
            "image/png": "[encoded data removed]",
            "text/plain": [
              "<Figure size 360x240 with 1 Axes>"
            ]
          },
          "metadata": {
            "needs_background": "light"
          },
          "output_type": "display_data"
        }
      ],
      "source": [
        "boxplot('Starch_content')"
      ]
    },
    {
      "cell_type": "code",
      "execution_count": null,
      "id": "780ff0b1",
      "metadata": {
        "id": "780ff0b1",
        "outputId": "671cdfaa-e4a0-4a93-f77a-e84a551b5a78"
      },
      "outputs": [
        {
          "data": {
            "image/png": "[encoded data removed]",
            "text/plain": [
              "<Figure size 360x240 with 1 Axes>"
            ]
          },
          "metadata": {
            "needs_background": "light"
          },
          "output_type": "display_data"
        }
      ],
      "source": [
        "boxplot('Hydrocyanic_acid')"
      ]
    },
    {
      "cell_type": "code",
      "execution_count": null,
      "id": "ce72c97f",
      "metadata": {
        "id": "ce72c97f"
      },
      "outputs": [],
      "source": []
    },
    {
      "cell_type": "code",
      "execution_count": null,
      "id": "f87e9cdb",
      "metadata": {
        "id": "f87e9cdb",
        "outputId": "390dcb76-6061-4ceb-ee3e-16a56b8914f4"
      },
      "outputs": [
        {
          "data": {
            "image/png": "[encoded data removed]",
            "text/plain": [
              "<Figure size 360x240 with 1 Axes>"
            ]
          },
          "metadata": {
            "needs_background": "light"
          },
          "output_type": "display_data"
        }
      ],
      "source": [
        "boxplot('Total_titrable_acidity')"
      ]
    },
    {
      "cell_type": "code",
      "execution_count": null,
      "id": "40b304c8",
      "metadata": {
        "id": "40b304c8"
      },
      "outputs": [],
      "source": []
    },
    {
      "cell_type": "code",
      "execution_count": null,
      "id": "06a73c44",
      "metadata": {
        "id": "06a73c44"
      },
      "outputs": [],
      "source": [
        "def histgram(column):\n",
        "    #sns.histplot(data2[\"price\"],kde=True)\n",
        "    sns.histplot(data=data,x=data[f\"{column}\"], kde = True)\n",
        "    plt.title(f\"Histgram plot of {column}\")\n",
        "    plt.show()"
      ]
    },
    {
      "cell_type": "code",
      "execution_count": null,
      "id": "1aefb6fd",
      "metadata": {
        "id": "1aefb6fd",
        "outputId": "ca4e52de-de72-482c-96b8-799ab38c3d2b"
      },
      "outputs": [
        {
          "data": {
            "image/png": "[encoded data removed]",
            "text/plain": [
              "<Figure size 360x240 with 1 Axes>"
            ]
          },
          "metadata": {
            "needs_background": "light"
          },
          "output_type": "display_data"
        },
        {
          "data": {
            "image/png": "[encoded data removed]",
            "text/plain": [
              "<Figure size 360x240 with 1 Axes>"
            ]
          },
          "metadata": {
            "needs_background": "light"
          },
          "output_type": "display_data"
        }
      ],
      "source": [
        "#histgram('Dissolve_oxygen')\n",
        "histgram('Temperature')\n",
        "histgram('PH')\n"
      ]
    },
    {
      "cell_type": "code",
      "execution_count": null,
      "id": "7e27532c",
      "metadata": {
        "id": "7e27532c",
        "outputId": "89677ddd-198d-4231-bb94-5bba85ff89fa"
      },
      "outputs": [
        {
          "name": "stderr",
          "output_type": "stream",
          "text": [
            "C:\\Users\\Abisola\\AppData\\Local\\Temp\\ipykernel_14176\\87638795.py:2: FutureWarning: Dropping of nuisance columns in DataFrame reductions (with 'numeric_only=None') is deprecated; in a future version this will raise TypeError.  Select only valid columns before calling the reduction.\n",
            "  data.skew(axis = 0, skipna = True)\n"
          ]
        },
        {
          "data": {
            "text/plain": [
              "storage_week             -0.425603\n",
              "MoistureContent           0.803387\n",
              "Protein_content          -1.589425\n",
              "Lipid_content             0.351984\n",
              "Crude_fiber               1.129420\n",
              "Ash_content              -0.953680\n",
              "Starch_content           -1.910487\n",
              "Sugar_content            -2.552755\n",
              "Hydrocyanic_acid          0.234645\n",
              "Total_titrable_acidity   -0.420772\n",
              "PH                       -0.112670\n",
              "Swelling_capacity        -1.565057\n",
              "Temperature               0.122995\n",
              "Humidity                  0.628045\n",
              "dtype: float64"
            ]
          },
          "execution_count": 216,
          "metadata": {},
          "output_type": "execute_result"
        }
      ],
      "source": [
        "# skewness along the index axis\n",
        "data.skew(axis = 0, skipna = True)"
      ]
    },
    {
      "cell_type": "code",
      "execution_count": null,
      "id": "7d39dc61",
      "metadata": {
        "id": "7d39dc61",
        "outputId": "d81fa19b-300e-45f6-931e-640728f79651"
      },
      "outputs": [
        {
          "data": {
            "text/html": [
              "<div>\n",
              "<style scoped>\n",
              "    .dataframe tbody tr th:only-of-type {\n",
              "        vertical-align: middle;\n",
              "    }\n",
              "\n",
              "    .dataframe tbody tr th {\n",
              "        vertical-align: top;\n",
              "    }\n",
              "\n",
              "    .dataframe thead th {\n",
              "        text-align: right;\n",
              "    }\n",
              "</style>\n",
              "<table border=\"1\" class=\"dataframe\">\n",
              "  <thead>\n",
              "    <tr style=\"text-align: right;\">\n",
              "      <th></th>\n",
              "      <th>storage_week</th>\n",
              "      <th>MoistureContent</th>\n",
              "      <th>Protein_content</th>\n",
              "      <th>Lipid_content</th>\n",
              "      <th>Crude_fiber</th>\n",
              "      <th>Ash_content</th>\n",
              "      <th>Starch_content</th>\n",
              "      <th>Sugar_content</th>\n",
              "      <th>Hydrocyanic_acid</th>\n",
              "      <th>Total_titrable_acidity</th>\n",
              "      <th>PH</th>\n",
              "      <th>Swelling_capacity</th>\n",
              "      <th>Temperature</th>\n",
              "      <th>Humidity</th>\n",
              "    </tr>\n",
              "  </thead>\n",
              "  <tbody>\n",
              "    <tr>\n",
              "      <th>storage_week</th>\n",
              "      <td>1.000000</td>\n",
              "      <td>-0.191939</td>\n",
              "      <td>-0.722319</td>\n",
              "      <td>0.049062</td>\n",
              "      <td>-0.307553</td>\n",
              "      <td>0.685660</td>\n",
              "      <td>0.268322</td>\n",
              "      <td>0.340887</td>\n",
              "      <td>-0.045930</td>\n",
              "      <td>0.379502</td>\n",
              "      <td>-0.503639</td>\n",
              "      <td>0.162825</td>\n",
              "      <td>0.490344</td>\n",
              "      <td>0.025482</td>\n",
              "    </tr>\n",
              "    <tr>\n",
              "      <th>MoistureContent</th>\n",
              "      <td>-0.191939</td>\n",
              "      <td>1.000000</td>\n",
              "      <td>0.205088</td>\n",
              "      <td>-0.199021</td>\n",
              "      <td>0.332976</td>\n",
              "      <td>0.103545</td>\n",
              "      <td>-0.818959</td>\n",
              "      <td>0.190864</td>\n",
              "      <td>0.661192</td>\n",
              "      <td>-0.543050</td>\n",
              "      <td>-0.322702</td>\n",
              "      <td>-0.481591</td>\n",
              "      <td>-0.384830</td>\n",
              "      <td>0.231321</td>\n",
              "    </tr>\n",
              "    <tr>\n",
              "      <th>Protein_content</th>\n",
              "      <td>-0.722319</td>\n",
              "      <td>0.205088</td>\n",
              "      <td>1.000000</td>\n",
              "      <td>0.388568</td>\n",
              "      <td>0.321957</td>\n",
              "      <td>-0.490991</td>\n",
              "      <td>-0.439742</td>\n",
              "      <td>-0.065697</td>\n",
              "      <td>-0.191270</td>\n",
              "      <td>0.016374</td>\n",
              "      <td>0.584036</td>\n",
              "      <td>-0.179023</td>\n",
              "      <td>-0.476863</td>\n",
              "      <td>0.051797</td>\n",
              "    </tr>\n",
              "    <tr>\n",
              "      <th>Lipid_content</th>\n",
              "      <td>0.049062</td>\n",
              "      <td>-0.199021</td>\n",
              "      <td>0.388568</td>\n",
              "      <td>1.000000</td>\n",
              "      <td>0.009756</td>\n",
              "      <td>-0.175244</td>\n",
              "      <td>-0.174175</td>\n",
              "      <td>-0.364611</td>\n",
              "      <td>-0.061573</td>\n",
              "      <td>0.207872</td>\n",
              "      <td>0.389040</td>\n",
              "      <td>0.023974</td>\n",
              "      <td>0.012829</td>\n",
              "      <td>-0.389414</td>\n",
              "    </tr>\n",
              "    <tr>\n",
              "      <th>Crude_fiber</th>\n",
              "      <td>-0.307553</td>\n",
              "      <td>0.332976</td>\n",
              "      <td>0.321957</td>\n",
              "      <td>0.009756</td>\n",
              "      <td>1.000000</td>\n",
              "      <td>0.298396</td>\n",
              "      <td>-0.717652</td>\n",
              "      <td>0.155049</td>\n",
              "      <td>0.015882</td>\n",
              "      <td>-0.257531</td>\n",
              "      <td>0.173089</td>\n",
              "      <td>-0.027594</td>\n",
              "      <td>-0.271525</td>\n",
              "      <td>0.524967</td>\n",
              "    </tr>\n",
              "    <tr>\n",
              "      <th>Ash_content</th>\n",
              "      <td>0.685660</td>\n",
              "      <td>0.103545</td>\n",
              "      <td>-0.490991</td>\n",
              "      <td>-0.175244</td>\n",
              "      <td>0.298396</td>\n",
              "      <td>1.000000</td>\n",
              "      <td>-0.193149</td>\n",
              "      <td>0.634936</td>\n",
              "      <td>-0.181853</td>\n",
              "      <td>0.305584</td>\n",
              "      <td>-0.549147</td>\n",
              "      <td>0.319432</td>\n",
              "      <td>-0.021283</td>\n",
              "      <td>0.373453</td>\n",
              "    </tr>\n",
              "    <tr>\n",
              "      <th>Starch_content</th>\n",
              "      <td>0.268322</td>\n",
              "      <td>-0.818959</td>\n",
              "      <td>-0.439742</td>\n",
              "      <td>-0.174175</td>\n",
              "      <td>-0.717652</td>\n",
              "      <td>-0.193149</td>\n",
              "      <td>1.000000</td>\n",
              "      <td>-0.135003</td>\n",
              "      <td>-0.435626</td>\n",
              "      <td>0.389613</td>\n",
              "      <td>0.021473</td>\n",
              "      <td>0.308591</td>\n",
              "      <td>0.462395</td>\n",
              "      <td>-0.284480</td>\n",
              "    </tr>\n",
              "    <tr>\n",
              "      <th>Sugar_content</th>\n",
              "      <td>0.340887</td>\n",
              "      <td>0.190864</td>\n",
              "      <td>-0.065697</td>\n",
              "      <td>-0.364611</td>\n",
              "      <td>0.155049</td>\n",
              "      <td>0.634936</td>\n",
              "      <td>-0.135003</td>\n",
              "      <td>1.000000</td>\n",
              "      <td>-0.291366</td>\n",
              "      <td>0.445037</td>\n",
              "      <td>-0.306444</td>\n",
              "      <td>0.272439</td>\n",
              "      <td>-0.253109</td>\n",
              "      <td>0.308100</td>\n",
              "    </tr>\n",
              "    <tr>\n",
              "      <th>Hydrocyanic_acid</th>\n",
              "      <td>-0.045930</td>\n",
              "      <td>0.661192</td>\n",
              "      <td>-0.191270</td>\n",
              "      <td>-0.061573</td>\n",
              "      <td>0.015882</td>\n",
              "      <td>-0.181853</td>\n",
              "      <td>-0.435626</td>\n",
              "      <td>-0.291366</td>\n",
              "      <td>1.000000</td>\n",
              "      <td>-0.677189</td>\n",
              "      <td>-0.141197</td>\n",
              "      <td>-0.581553</td>\n",
              "      <td>0.018127</td>\n",
              "      <td>-0.196626</td>\n",
              "    </tr>\n",
              "    <tr>\n",
              "      <th>Total_titrable_acidity</th>\n",
              "      <td>0.379502</td>\n",
              "      <td>-0.543050</td>\n",
              "      <td>0.016374</td>\n",
              "      <td>0.207872</td>\n",
              "      <td>-0.257531</td>\n",
              "      <td>0.305584</td>\n",
              "      <td>0.389613</td>\n",
              "      <td>0.445037</td>\n",
              "      <td>-0.677189</td>\n",
              "      <td>1.000000</td>\n",
              "      <td>0.137297</td>\n",
              "      <td>0.578779</td>\n",
              "      <td>-0.095849</td>\n",
              "      <td>-0.027034</td>\n",
              "    </tr>\n",
              "    <tr>\n",
              "      <th>PH</th>\n",
              "      <td>-0.503639</td>\n",
              "      <td>-0.322702</td>\n",
              "      <td>0.584036</td>\n",
              "      <td>0.389040</td>\n",
              "      <td>0.173089</td>\n",
              "      <td>-0.549147</td>\n",
              "      <td>0.021473</td>\n",
              "      <td>-0.306444</td>\n",
              "      <td>-0.141197</td>\n",
              "      <td>0.137297</td>\n",
              "      <td>1.000000</td>\n",
              "      <td>-0.192040</td>\n",
              "      <td>-0.012047</td>\n",
              "      <td>-0.035935</td>\n",
              "    </tr>\n",
              "    <tr>\n",
              "      <th>Swelling_capacity</th>\n",
              "      <td>0.162825</td>\n",
              "      <td>-0.481591</td>\n",
              "      <td>-0.179023</td>\n",
              "      <td>0.023974</td>\n",
              "      <td>-0.027594</td>\n",
              "      <td>0.319432</td>\n",
              "      <td>0.308591</td>\n",
              "      <td>0.272439</td>\n",
              "      <td>-0.581553</td>\n",
              "      <td>0.578779</td>\n",
              "      <td>-0.192040</td>\n",
              "      <td>1.000000</td>\n",
              "      <td>-0.226597</td>\n",
              "      <td>-0.105615</td>\n",
              "    </tr>\n",
              "    <tr>\n",
              "      <th>Temperature</th>\n",
              "      <td>0.490344</td>\n",
              "      <td>-0.384830</td>\n",
              "      <td>-0.476863</td>\n",
              "      <td>0.012829</td>\n",
              "      <td>-0.271525</td>\n",
              "      <td>-0.021283</td>\n",
              "      <td>0.462395</td>\n",
              "      <td>-0.253109</td>\n",
              "      <td>0.018127</td>\n",
              "      <td>-0.095849</td>\n",
              "      <td>-0.012047</td>\n",
              "      <td>-0.226597</td>\n",
              "      <td>1.000000</td>\n",
              "      <td>0.161522</td>\n",
              "    </tr>\n",
              "    <tr>\n",
              "      <th>Humidity</th>\n",
              "      <td>0.025482</td>\n",
              "      <td>0.231321</td>\n",
              "      <td>0.051797</td>\n",
              "      <td>-0.389414</td>\n",
              "      <td>0.524967</td>\n",
              "      <td>0.373453</td>\n",
              "      <td>-0.284480</td>\n",
              "      <td>0.308100</td>\n",
              "      <td>-0.196626</td>\n",
              "      <td>-0.027034</td>\n",
              "      <td>-0.035935</td>\n",
              "      <td>-0.105615</td>\n",
              "      <td>0.161522</td>\n",
              "      <td>1.000000</td>\n",
              "    </tr>\n",
              "  </tbody>\n",
              "</table>\n",
              "</div>"
            ],
            "text/plain": [
              "                        storage_week  MoistureContent  Protein_content  \\\n",
              "storage_week                1.000000        -0.191939        -0.722319   \n",
              "MoistureContent            -0.191939         1.000000         0.205088   \n",
              "Protein_content            -0.722319         0.205088         1.000000   \n",
              "Lipid_content               0.049062        -0.199021         0.388568   \n",
              "Crude_fiber                -0.307553         0.332976         0.321957   \n",
              "Ash_content                 0.685660         0.103545        -0.490991   \n",
              "Starch_content              0.268322        -0.818959        -0.439742   \n",
              "Sugar_content               0.340887         0.190864        -0.065697   \n",
              "Hydrocyanic_acid           -0.045930         0.661192        -0.191270   \n",
              "Total_titrable_acidity      0.379502        -0.543050         0.016374   \n",
              "PH                         -0.503639        -0.322702         0.584036   \n",
              "Swelling_capacity           0.162825        -0.481591        -0.179023   \n",
              "Temperature                 0.490344        -0.384830        -0.476863   \n",
              "Humidity                    0.025482         0.231321         0.051797   \n",
              "\n",
              "                        Lipid_content  Crude_fiber  Ash_content  \\\n",
              "storage_week                 0.049062    -0.307553     0.685660   \n",
              "MoistureContent             -0.199021     0.332976     0.103545   \n",
              "Protein_content              0.388568     0.321957    -0.490991   \n",
              "Lipid_content                1.000000     0.009756    -0.175244   \n",
              "Crude_fiber                  0.009756     1.000000     0.298396   \n",
              "Ash_content                 -0.175244     0.298396     1.000000   \n",
              "Starch_content              -0.174175    -0.717652    -0.193149   \n",
              "Sugar_content               -0.364611     0.155049     0.634936   \n",
              "Hydrocyanic_acid            -0.061573     0.015882    -0.181853   \n",
              "Total_titrable_acidity       0.207872    -0.257531     0.305584   \n",
              "PH                           0.389040     0.173089    -0.549147   \n",
              "Swelling_capacity            0.023974    -0.027594     0.319432   \n",
              "Temperature                  0.012829    -0.271525    -0.021283   \n",
              "Humidity                    -0.389414     0.524967     0.373453   \n",
              "\n",
              "                        Starch_content  Sugar_content  Hydrocyanic_acid  \\\n",
              "storage_week                  0.268322       0.340887         -0.045930   \n",
              "MoistureContent              -0.818959       0.190864          0.661192   \n",
              "Protein_content              -0.439742      -0.065697         -0.191270   \n",
              "Lipid_content                -0.174175      -0.364611         -0.061573   \n",
              "Crude_fiber                  -0.717652       0.155049          0.015882   \n",
              "Ash_content                  -0.193149       0.634936         -0.181853   \n",
              "Starch_content                1.000000      -0.135003         -0.435626   \n",
              "Sugar_content                -0.135003       1.000000         -0.291366   \n",
              "Hydrocyanic_acid             -0.435626      -0.291366          1.000000   \n",
              "Total_titrable_acidity        0.389613       0.445037         -0.677189   \n",
              "PH                            0.021473      -0.306444         -0.141197   \n",
              "Swelling_capacity             0.308591       0.272439         -0.581553   \n",
              "Temperature                   0.462395      -0.253109          0.018127   \n",
              "Humidity                     -0.284480       0.308100         -0.196626   \n",
              "\n",
              "                        Total_titrable_acidity        PH  Swelling_capacity  \\\n",
              "storage_week                          0.379502 -0.503639           0.162825   \n",
              "MoistureContent                      -0.543050 -0.322702          -0.481591   \n",
              "Protein_content                       0.016374  0.584036          -0.179023   \n",
              "Lipid_content                         0.207872  0.389040           0.023974   \n",
              "Crude_fiber                          -0.257531  0.173089          -0.027594   \n",
              "Ash_content                           0.305584 -0.549147           0.319432   \n",
              "Starch_content                        0.389613  0.021473           0.308591   \n",
              "Sugar_content                         0.445037 -0.306444           0.272439   \n",
              "Hydrocyanic_acid                     -0.677189 -0.141197          -0.581553   \n",
              "Total_titrable_acidity                1.000000  0.137297           0.578779   \n",
              "PH                                    0.137297  1.000000          -0.192040   \n",
              "Swelling_capacity                     0.578779 -0.192040           1.000000   \n",
              "Temperature                          -0.095849 -0.012047          -0.226597   \n",
              "Humidity                             -0.027034 -0.035935          -0.105615   \n",
              "\n",
              "                        Temperature  Humidity  \n",
              "storage_week               0.490344  0.025482  \n",
              "MoistureContent           -0.384830  0.231321  \n",
              "Protein_content           -0.476863  0.051797  \n",
              "Lipid_content              0.012829 -0.389414  \n",
              "Crude_fiber               -0.271525  0.524967  \n",
              "Ash_content               -0.021283  0.373453  \n",
              "Starch_content             0.462395 -0.284480  \n",
              "Sugar_content             -0.253109  0.308100  \n",
              "Hydrocyanic_acid           0.018127 -0.196626  \n",
              "Total_titrable_acidity    -0.095849 -0.027034  \n",
              "PH                        -0.012047 -0.035935  \n",
              "Swelling_capacity         -0.226597 -0.105615  \n",
              "Temperature                1.000000  0.161522  \n",
              "Humidity                   0.161522  1.000000  "
            ]
          },
          "execution_count": 217,
          "metadata": {},
          "output_type": "execute_result"
        }
      ],
      "source": [
        "# Calculate the correlation matrix\n",
        "correlation_matrix = data.corr()\n",
        "correlation_matrix"
      ]
    },
    {
      "cell_type": "code",
      "execution_count": null,
      "id": "94ddea62",
      "metadata": {
        "id": "94ddea62",
        "outputId": "6d53b50e-0cbf-4038-e003-0f0743a412cd"
      },
      "outputs": [
        {
          "data": {
            "image/png": "[encoded data removed]",
            "text/plain": [
              "<Figure size 600x480 with 2 Axes>"
            ]
          },
          "metadata": {
            "needs_background": "light"
          },
          "output_type": "display_data"
        }
      ],
      "source": [
        "# plotting correlation heatmap\n",
        "plt.figure(figsize=(10, 8))\n",
        "sns.heatmap(correlation_matrix, annot=True, cmap='coolwarm', fmt=\".2f\", linewidths=0.5)\n",
        "plt.title('Correlation Matrix')\n",
        "# displaying heatmap\n",
        "plt.show()"
      ]
    },
    {
      "cell_type": "code",
      "execution_count": null,
      "id": "46816281",
      "metadata": {
        "id": "46816281",
        "outputId": "1cb255cb-d8bf-49e3-f502-bc3d3d0ce3eb"
      },
      "outputs": [
        {
          "name": "stdout",
          "output_type": "stream",
          "text": [
            "Index(['storage_week', 'Samples', 'MoistureContent', 'Protein_content',\n",
            "       'Lipid_content', 'Crude_fiber', 'Ash_content', 'Starch_content',\n",
            "       'Sugar_content', 'Hydrocyanic_acid', 'Total_titrable_acidity', 'PH',\n",
            "       'Swelling_capacity', 'Temperature', 'Humidity'],\n",
            "      dtype='object')\n"
          ]
        }
      ],
      "source": [
        "print(data.columns)"
      ]
    },
    {
      "cell_type": "code",
      "execution_count": null,
      "id": "37d7ace7",
      "metadata": {
        "id": "37d7ace7"
      },
      "outputs": [],
      "source": [
        "columns_to_drop = [\"MoistureContent\", \"Samples\", \"storage_week\"]\n",
        "features = data.drop(columns=columns_to_drop, inplace=False)"
      ]
    },
    {
      "cell_type": "markdown",
      "id": "e6c3f81b",
      "metadata": {
        "id": "e6c3f81b"
      },
      "source": [
        "### Predictive Analysis"
      ]
    },
    {
      "cell_type": "code",
      "execution_count": null,
      "id": "ce68021b",
      "metadata": {
        "id": "ce68021b",
        "outputId": "c4141e63-51d2-4325-c83f-407b45351222"
      },
      "outputs": [
        {
          "data": {
            "text/html": [
              "<div>\n",
              "<style scoped>\n",
              "    .dataframe tbody tr th:only-of-type {\n",
              "        vertical-align: middle;\n",
              "    }\n",
              "\n",
              "    .dataframe tbody tr th {\n",
              "        vertical-align: top;\n",
              "    }\n",
              "\n",
              "    .dataframe thead th {\n",
              "        text-align: right;\n",
              "    }\n",
              "</style>\n",
              "<table border=\"1\" class=\"dataframe\">\n",
              "  <thead>\n",
              "    <tr style=\"text-align: right;\">\n",
              "      <th></th>\n",
              "      <th>Protein_content</th>\n",
              "      <th>Lipid_content</th>\n",
              "      <th>Crude_fiber</th>\n",
              "      <th>Ash_content</th>\n",
              "      <th>Starch_content</th>\n",
              "      <th>Sugar_content</th>\n",
              "      <th>Hydrocyanic_acid</th>\n",
              "      <th>Total_titrable_acidity</th>\n",
              "      <th>PH</th>\n",
              "      <th>Swelling_capacity</th>\n",
              "      <th>Temperature</th>\n",
              "      <th>Humidity</th>\n",
              "    </tr>\n",
              "  </thead>\n",
              "  <tbody>\n",
              "    <tr>\n",
              "      <th>0</th>\n",
              "      <td>3.74</td>\n",
              "      <td>3.50</td>\n",
              "      <td>6.29</td>\n",
              "      <td>1.27</td>\n",
              "      <td>74.67</td>\n",
              "      <td>4.60</td>\n",
              "      <td>0.84</td>\n",
              "      <td>0.190</td>\n",
              "      <td>4.3</td>\n",
              "      <td>3.3</td>\n",
              "      <td>34.2</td>\n",
              "      <td>91</td>\n",
              "    </tr>\n",
              "    <tr>\n",
              "      <th>1</th>\n",
              "      <td>3.78</td>\n",
              "      <td>3.46</td>\n",
              "      <td>2.78</td>\n",
              "      <td>1.15</td>\n",
              "      <td>76.75</td>\n",
              "      <td>4.80</td>\n",
              "      <td>0.83</td>\n",
              "      <td>0.230</td>\n",
              "      <td>4.3</td>\n",
              "      <td>3.4</td>\n",
              "      <td>32.4</td>\n",
              "      <td>89</td>\n",
              "    </tr>\n",
              "    <tr>\n",
              "      <th>2</th>\n",
              "      <td>3.75</td>\n",
              "      <td>2.66</td>\n",
              "      <td>3.96</td>\n",
              "      <td>1.36</td>\n",
              "      <td>78.93</td>\n",
              "      <td>4.90</td>\n",
              "      <td>0.60</td>\n",
              "      <td>0.230</td>\n",
              "      <td>4.2</td>\n",
              "      <td>3.6</td>\n",
              "      <td>32.8</td>\n",
              "      <td>90</td>\n",
              "    </tr>\n",
              "    <tr>\n",
              "      <th>3</th>\n",
              "      <td>3.82</td>\n",
              "      <td>4.27</td>\n",
              "      <td>5.39</td>\n",
              "      <td>1.28</td>\n",
              "      <td>78.68</td>\n",
              "      <td>4.90</td>\n",
              "      <td>0.56</td>\n",
              "      <td>0.270</td>\n",
              "      <td>4.3</td>\n",
              "      <td>3.7</td>\n",
              "      <td>31.8</td>\n",
              "      <td>90</td>\n",
              "    </tr>\n",
              "    <tr>\n",
              "      <th>4</th>\n",
              "      <td>3.80</td>\n",
              "      <td>4.75</td>\n",
              "      <td>2.41</td>\n",
              "      <td>1.01</td>\n",
              "      <td>81.09</td>\n",
              "      <td>4.85</td>\n",
              "      <td>0.66</td>\n",
              "      <td>0.230</td>\n",
              "      <td>4.3</td>\n",
              "      <td>3.6</td>\n",
              "      <td>33.8</td>\n",
              "      <td>89</td>\n",
              "    </tr>\n",
              "    <tr>\n",
              "      <th>5</th>\n",
              "      <td>3.48</td>\n",
              "      <td>1.89</td>\n",
              "      <td>3.08</td>\n",
              "      <td>1.31</td>\n",
              "      <td>82.71</td>\n",
              "      <td>4.58</td>\n",
              "      <td>0.84</td>\n",
              "      <td>0.198</td>\n",
              "      <td>4.1</td>\n",
              "      <td>3.7</td>\n",
              "      <td>33.8</td>\n",
              "      <td>89</td>\n",
              "    </tr>\n",
              "    <tr>\n",
              "      <th>6</th>\n",
              "      <td>3.71</td>\n",
              "      <td>5.37</td>\n",
              "      <td>3.82</td>\n",
              "      <td>1.40</td>\n",
              "      <td>75.67</td>\n",
              "      <td>4.85</td>\n",
              "      <td>0.82</td>\n",
              "      <td>0.270</td>\n",
              "      <td>4.3</td>\n",
              "      <td>3.7</td>\n",
              "      <td>31.8</td>\n",
              "      <td>89</td>\n",
              "    </tr>\n",
              "    <tr>\n",
              "      <th>7</th>\n",
              "      <td>3.68</td>\n",
              "      <td>3.06</td>\n",
              "      <td>3.84</td>\n",
              "      <td>1.56</td>\n",
              "      <td>78.76</td>\n",
              "      <td>4.96</td>\n",
              "      <td>0.58</td>\n",
              "      <td>0.261</td>\n",
              "      <td>4.1</td>\n",
              "      <td>3.7</td>\n",
              "      <td>32.0</td>\n",
              "      <td>90</td>\n",
              "    </tr>\n",
              "    <tr>\n",
              "      <th>8</th>\n",
              "      <td>3.78</td>\n",
              "      <td>5.63</td>\n",
              "      <td>2.98</td>\n",
              "      <td>1.38</td>\n",
              "      <td>79.28</td>\n",
              "      <td>4.88</td>\n",
              "      <td>0.56</td>\n",
              "      <td>0.270</td>\n",
              "      <td>4.2</td>\n",
              "      <td>3.7</td>\n",
              "      <td>32.8</td>\n",
              "      <td>89</td>\n",
              "    </tr>\n",
              "    <tr>\n",
              "      <th>9</th>\n",
              "      <td>3.72</td>\n",
              "      <td>2.41</td>\n",
              "      <td>2.82</td>\n",
              "      <td>1.31</td>\n",
              "      <td>79.86</td>\n",
              "      <td>5.05</td>\n",
              "      <td>0.64</td>\n",
              "      <td>0.270</td>\n",
              "      <td>4.2</td>\n",
              "      <td>3.7</td>\n",
              "      <td>33.9</td>\n",
              "      <td>91</td>\n",
              "    </tr>\n",
              "    <tr>\n",
              "      <th>10</th>\n",
              "      <td>3.91</td>\n",
              "      <td>4.52</td>\n",
              "      <td>8.53</td>\n",
              "      <td>1.23</td>\n",
              "      <td>66.63</td>\n",
              "      <td>4.68</td>\n",
              "      <td>0.84</td>\n",
              "      <td>0.180</td>\n",
              "      <td>4.2</td>\n",
              "      <td>3.6</td>\n",
              "      <td>31.1</td>\n",
              "      <td>90</td>\n",
              "    </tr>\n",
              "    <tr>\n",
              "      <th>11</th>\n",
              "      <td>3.85</td>\n",
              "      <td>2.53</td>\n",
              "      <td>1.75</td>\n",
              "      <td>0.89</td>\n",
              "      <td>77.85</td>\n",
              "      <td>4.80</td>\n",
              "      <td>0.83</td>\n",
              "      <td>0.220</td>\n",
              "      <td>4.2</td>\n",
              "      <td>3.5</td>\n",
              "      <td>31.1</td>\n",
              "      <td>89</td>\n",
              "    </tr>\n",
              "    <tr>\n",
              "      <th>12</th>\n",
              "      <td>3.80</td>\n",
              "      <td>2.25</td>\n",
              "      <td>4.08</td>\n",
              "      <td>1.18</td>\n",
              "      <td>79.00</td>\n",
              "      <td>4.87</td>\n",
              "      <td>0.62</td>\n",
              "      <td>0.230</td>\n",
              "      <td>4.3</td>\n",
              "      <td>3.7</td>\n",
              "      <td>31.1</td>\n",
              "      <td>90</td>\n",
              "    </tr>\n",
              "    <tr>\n",
              "      <th>13</th>\n",
              "      <td>3.86</td>\n",
              "      <td>2.90</td>\n",
              "      <td>7.40</td>\n",
              "      <td>1.19</td>\n",
              "      <td>78.08</td>\n",
              "      <td>5.00</td>\n",
              "      <td>0.56</td>\n",
              "      <td>0.260</td>\n",
              "      <td>4.4</td>\n",
              "      <td>3.7</td>\n",
              "      <td>32.1</td>\n",
              "      <td>90</td>\n",
              "    </tr>\n",
              "    <tr>\n",
              "      <th>14</th>\n",
              "      <td>3.85</td>\n",
              "      <td>5.54</td>\n",
              "      <td>2.23</td>\n",
              "      <td>0.72</td>\n",
              "      <td>82.33</td>\n",
              "      <td>3.87</td>\n",
              "      <td>0.66</td>\n",
              "      <td>0.230</td>\n",
              "      <td>4.4</td>\n",
              "      <td>3.6</td>\n",
              "      <td>33.3</td>\n",
              "      <td>89</td>\n",
              "    </tr>\n",
              "  </tbody>\n",
              "</table>\n",
              "</div>"
            ],
            "text/plain": [
              "    Protein_content  Lipid_content  Crude_fiber  Ash_content  Starch_content  \\\n",
              "0              3.74           3.50         6.29         1.27           74.67   \n",
              "1              3.78           3.46         2.78         1.15           76.75   \n",
              "2              3.75           2.66         3.96         1.36           78.93   \n",
              "3              3.82           4.27         5.39         1.28           78.68   \n",
              "4              3.80           4.75         2.41         1.01           81.09   \n",
              "5              3.48           1.89         3.08         1.31           82.71   \n",
              "6              3.71           5.37         3.82         1.40           75.67   \n",
              "7              3.68           3.06         3.84         1.56           78.76   \n",
              "8              3.78           5.63         2.98         1.38           79.28   \n",
              "9              3.72           2.41         2.82         1.31           79.86   \n",
              "10             3.91           4.52         8.53         1.23           66.63   \n",
              "11             3.85           2.53         1.75         0.89           77.85   \n",
              "12             3.80           2.25         4.08         1.18           79.00   \n",
              "13             3.86           2.90         7.40         1.19           78.08   \n",
              "14             3.85           5.54         2.23         0.72           82.33   \n",
              "\n",
              "    Sugar_content  Hydrocyanic_acid  Total_titrable_acidity   PH  \\\n",
              "0            4.60              0.84                   0.190  4.3   \n",
              "1            4.80              0.83                   0.230  4.3   \n",
              "2            4.90              0.60                   0.230  4.2   \n",
              "3            4.90              0.56                   0.270  4.3   \n",
              "4            4.85              0.66                   0.230  4.3   \n",
              "5            4.58              0.84                   0.198  4.1   \n",
              "6            4.85              0.82                   0.270  4.3   \n",
              "7            4.96              0.58                   0.261  4.1   \n",
              "8            4.88              0.56                   0.270  4.2   \n",
              "9            5.05              0.64                   0.270  4.2   \n",
              "10           4.68              0.84                   0.180  4.2   \n",
              "11           4.80              0.83                   0.220  4.2   \n",
              "12           4.87              0.62                   0.230  4.3   \n",
              "13           5.00              0.56                   0.260  4.4   \n",
              "14           3.87              0.66                   0.230  4.4   \n",
              "\n",
              "    Swelling_capacity  Temperature  Humidity  \n",
              "0                 3.3         34.2        91  \n",
              "1                 3.4         32.4        89  \n",
              "2                 3.6         32.8        90  \n",
              "3                 3.7         31.8        90  \n",
              "4                 3.6         33.8        89  \n",
              "5                 3.7         33.8        89  \n",
              "6                 3.7         31.8        89  \n",
              "7                 3.7         32.0        90  \n",
              "8                 3.7         32.8        89  \n",
              "9                 3.7         33.9        91  \n",
              "10                3.6         31.1        90  \n",
              "11                3.5         31.1        89  \n",
              "12                3.7         31.1        90  \n",
              "13                3.7         32.1        90  \n",
              "14                3.6         33.3        89  "
            ]
          },
          "execution_count": 221,
          "metadata": {},
          "output_type": "execute_result"
        }
      ],
      "source": [
        "features"
      ]
    },
    {
      "cell_type": "code",
      "execution_count": null,
      "id": "5b98cb64",
      "metadata": {
        "id": "5b98cb64",
        "outputId": "d4755f0f-06df-43f5-9ec0-d6a5f185b55f"
      },
      "outputs": [
        {
          "data": {
            "text/html": [
              "<div>\n",
              "<style scoped>\n",
              "    .dataframe tbody tr th:only-of-type {\n",
              "        vertical-align: middle;\n",
              "    }\n",
              "\n",
              "    .dataframe tbody tr th {\n",
              "        vertical-align: top;\n",
              "    }\n",
              "\n",
              "    .dataframe thead th {\n",
              "        text-align: right;\n",
              "    }\n",
              "</style>\n",
              "<table border=\"1\" class=\"dataframe\">\n",
              "  <thead>\n",
              "    <tr style=\"text-align: right;\">\n",
              "      <th></th>\n",
              "      <th>MoistureContent</th>\n",
              "    </tr>\n",
              "  </thead>\n",
              "  <tbody>\n",
              "    <tr>\n",
              "      <th>0</th>\n",
              "      <td>12.53</td>\n",
              "    </tr>\n",
              "    <tr>\n",
              "      <th>1</th>\n",
              "      <td>12.08</td>\n",
              "    </tr>\n",
              "    <tr>\n",
              "      <th>2</th>\n",
              "      <td>9.34</td>\n",
              "    </tr>\n",
              "    <tr>\n",
              "      <th>3</th>\n",
              "      <td>6.56</td>\n",
              "    </tr>\n",
              "    <tr>\n",
              "      <th>4</th>\n",
              "      <td>6.94</td>\n",
              "    </tr>\n",
              "  </tbody>\n",
              "</table>\n",
              "</div>"
            ],
            "text/plain": [
              "   MoistureContent\n",
              "0            12.53\n",
              "1            12.08\n",
              "2             9.34\n",
              "3             6.56\n",
              "4             6.94"
            ]
          },
          "execution_count": 222,
          "metadata": {},
          "output_type": "execute_result"
        }
      ],
      "source": [
        "label = data[['MoistureContent']]\n",
        "label.head()"
      ]
    },
    {
      "cell_type": "code",
      "execution_count": null,
      "id": "7e48c9fd",
      "metadata": {
        "id": "7e48c9fd"
      },
      "outputs": [],
      "source": []
    },
    {
      "cell_type": "code",
      "execution_count": null,
      "id": "3e9c7f0f",
      "metadata": {
        "id": "3e9c7f0f",
        "outputId": "586a1f40-693a-4d59-d79c-81e88fd79f6f"
      },
      "outputs": [
        {
          "name": "stdout",
          "output_type": "stream",
          "text": [
            "X_train dimension (12, 12)\n",
            "X_test dimension (3, 12)\n",
            "y_train dimension (12, 1)\n",
            "y_test dimension (3, 1)\n"
          ]
        }
      ],
      "source": [
        "from sklearn.model_selection import train_test_split\n",
        "X_train,X_test, y_train, y_test = train_test_split(features, label, test_size =0.2, random_state = 42)\n",
        "\n",
        "print('X_train dimension', X_train.shape)\n",
        "print('X_test dimension', X_test.shape)\n",
        "print('y_train dimension', y_train.shape)\n",
        "print('y_test dimension', y_test.shape)"
      ]
    },
    {
      "cell_type": "code",
      "execution_count": null,
      "id": "f0920d51",
      "metadata": {
        "id": "f0920d51",
        "outputId": "ef0b4c5d-008b-4547-ce3e-708e8835139e"
      },
      "outputs": [
        {
          "data": {
            "text/html": [
              "<div>\n",
              "<style scoped>\n",
              "    .dataframe tbody tr th:only-of-type {\n",
              "        vertical-align: middle;\n",
              "    }\n",
              "\n",
              "    .dataframe tbody tr th {\n",
              "        vertical-align: top;\n",
              "    }\n",
              "\n",
              "    .dataframe thead th {\n",
              "        text-align: right;\n",
              "    }\n",
              "</style>\n",
              "<table border=\"1\" class=\"dataframe\">\n",
              "  <thead>\n",
              "    <tr style=\"text-align: right;\">\n",
              "      <th></th>\n",
              "      <th>MoistureContent</th>\n",
              "    </tr>\n",
              "  </thead>\n",
              "  <tbody>\n",
              "    <tr>\n",
              "      <th>9</th>\n",
              "      <td>9.88</td>\n",
              "    </tr>\n",
              "    <tr>\n",
              "      <th>11</th>\n",
              "      <td>14.12</td>\n",
              "    </tr>\n",
              "    <tr>\n",
              "      <th>0</th>\n",
              "      <td>12.53</td>\n",
              "    </tr>\n",
              "  </tbody>\n",
              "</table>\n",
              "</div>"
            ],
            "text/plain": [
              "    MoistureContent\n",
              "9              9.88\n",
              "11            14.12\n",
              "0             12.53"
            ]
          },
          "execution_count": 224,
          "metadata": {},
          "output_type": "execute_result"
        }
      ],
      "source": [
        "X_text_df = pd.DataFrame(X_test)\n",
        "y_text_df = pd.DataFrame(y_test)\n",
        "y_text_df"
      ]
    },
    {
      "cell_type": "markdown",
      "id": "d11acbed",
      "metadata": {
        "id": "d11acbed"
      },
      "source": [
        "#### Linear Regression"
      ]
    },
    {
      "cell_type": "code",
      "execution_count": null,
      "id": "379cdfd6",
      "metadata": {
        "id": "379cdfd6",
        "outputId": "45f0d4f2-c165-4576-814c-5fdf5b239b8d"
      },
      "outputs": [
        {
          "data": {
            "text/plain": [
              "LinearRegression()"
            ]
          },
          "execution_count": 225,
          "metadata": {},
          "output_type": "execute_result"
        }
      ],
      "source": [
        "from sklearn import linear_model\n",
        "model_reg = linear_model.LinearRegression()\n",
        "# Train the Linear regression model\n",
        "model_reg.fit(X_train, y_train)"
      ]
    },
    {
      "cell_type": "code",
      "execution_count": null,
      "id": "29dce7fe",
      "metadata": {
        "id": "29dce7fe"
      },
      "outputs": [],
      "source": [
        "# Make predictions on the test set\n",
        "y_pred = model_reg.predict(X_test)"
      ]
    },
    {
      "cell_type": "code",
      "execution_count": null,
      "id": "924194ff",
      "metadata": {
        "scrolled": true,
        "id": "924194ff",
        "outputId": "d11607de-8cda-46bb-8a38-97a13cf5cd21"
      },
      "outputs": [
        {
          "name": "stdout",
          "output_type": "stream",
          "text": [
            "Coefficients: [[  5.64000413  -0.55876491  -0.74858182   0.81351572  -0.75374138\n",
            "    1.28768793   5.69880389 -20.38880638  -5.03650297  -0.62561529\n",
            "   -0.28164536   0.25391966]]\n",
            "Mean Squared Error: 0.684428029787504\n",
            "R-squared: 0.7762348330770794\n"
          ]
        }
      ],
      "source": [
        "# Evaluate the model\n",
        "mse = mean_squared_error(y_test, y_pred)\n",
        "rmse = np.sqrt(mse)\n",
        "r2 = r2_score(y_test, y_pred)\n",
        "# Print the model coefficients and evaluation metrics\n",
        "print(f'Coefficients: {model_reg.coef_}')\n",
        "print(f'Mean Squared Error: {mse}')\n",
        "print(f'R-squared: {r2}')"
      ]
    },
    {
      "cell_type": "code",
      "execution_count": null,
      "id": "87f9ba7a",
      "metadata": {
        "id": "87f9ba7a",
        "outputId": "8d245cd2-bb5f-4c17-b7e9-a508d03f6efe"
      },
      "outputs": [
        {
          "name": "stdout",
          "output_type": "stream",
          "text": [
            "   MoistureContent  Linear Regression Prediction\n",
            "0             9.88                      8.909320\n",
            "1            14.12                     13.735977\n",
            "2            12.53                     11.548373\n"
          ]
        }
      ],
      "source": [
        "# print the real values\n",
        "actual_MoistureContent = y_text_df\n",
        "actual_MoistureContent_gain=actual_MoistureContent.reset_index()\n",
        "to_predict = X_text_df\n",
        "# we call the predict method\n",
        "predictions = model_reg.predict(to_predict)\n",
        "# print the predictions\n",
        "predicted = pd.DataFrame(predictions)\n",
        "#print(predicted)\n",
        "predicted.rename(columns={0:'Linear Regression Prediction'}, inplace=True)\n",
        "Result = pd.concat([actual_MoistureContent_gain,predicted], axis =1, join='inner')\n",
        "result = Result.drop('index',axis = 1)\n",
        "print(result)"
      ]
    },
    {
      "cell_type": "code",
      "execution_count": null,
      "id": "075ff79b",
      "metadata": {
        "id": "075ff79b"
      },
      "outputs": [],
      "source": []
    },
    {
      "cell_type": "code",
      "execution_count": null,
      "id": "911306a0",
      "metadata": {
        "id": "911306a0",
        "outputId": "362bf850-1a11-4bef-c262-50642875d2b1"
      },
      "outputs": [
        {
          "data": {
            "image/png": "[encoded data removed]",
            "text/plain": [
              "<Figure size 480x240 with 1 Axes>"
            ]
          },
          "metadata": {
            "needs_background": "light"
          },
          "output_type": "display_data"
        }
      ],
      "source": [
        "\n",
        "plt.figure(figsize =(8,4))\n",
        "plt.title('Actual  MoistureContent  and Linear Regression Predicted MoistureContent ')\n",
        "plt.xlabel('Number of Observations', fontsize = 12)\n",
        "plt.ylabel(' MoistureContent ', fontsize = 12)\n",
        "plt.plot(Result['MoistureContent'])\n",
        "plt.plot(Result['Linear Regression Prediction'],'r')\n",
        "plt.legend(['Actual MoistureContent ','Linear Regression Predicted MoistureContent '], loc = 'upper right')\n",
        "plt.show()"
      ]
    },
    {
      "cell_type": "code",
      "execution_count": null,
      "id": "2dde550b",
      "metadata": {
        "id": "2dde550b"
      },
      "outputs": [],
      "source": []
    },
    {
      "cell_type": "code",
      "execution_count": null,
      "id": "3bcf1314",
      "metadata": {
        "id": "3bcf1314"
      },
      "outputs": [],
      "source": []
    },
    {
      "cell_type": "code",
      "execution_count": null,
      "id": "86d079bb",
      "metadata": {
        "id": "86d079bb"
      },
      "outputs": [],
      "source": []
    },
    {
      "cell_type": "code",
      "execution_count": null,
      "id": "75406903",
      "metadata": {
        "id": "75406903"
      },
      "outputs": [],
      "source": []
    },
    {
      "cell_type": "code",
      "execution_count": null,
      "id": "55ba67c1",
      "metadata": {
        "id": "55ba67c1"
      },
      "outputs": [],
      "source": []
    },
    {
      "cell_type": "code",
      "execution_count": null,
      "id": "819a6887",
      "metadata": {
        "id": "819a6887"
      },
      "outputs": [],
      "source": []
    }
  ],
  "metadata": {
    "kernelspec": {
      "display_name": "Python 3 (ipykernel)",
      "language": "python",
      "name": "python3"
    },
    "language_info": {
      "codemirror_mode": {
        "name": "ipython",
        "version": 3
      },
      "file_extension": ".py",
      "mimetype": "text/x-python",
      "name": "python",
      "nbconvert_exporter": "python",
      "pygments_lexer": "ipython3",
      "version": "3.9.12"
    },
    "colab": {
      "provenance": []
    }
  },
  "nbformat": 4,
  "nbformat_minor": 5
}